{
 "cells": [
  {
   "cell_type": "code",
   "execution_count": 1,
   "metadata": {},
   "outputs": [],
   "source": [
    "import numpy as np\n",
    "import random\n",
    "import seaborn as sns\n",
    "import matplotlib.pyplot as plt\n",
    "import warnings\n",
    "warnings.filterwarnings('ignore')"
   ]
  },
  {
   "cell_type": "code",
   "execution_count": 2,
   "metadata": {},
   "outputs": [
    {
     "name": "stdout",
     "output_type": "stream",
     "text": [
      "2D Array filled with random values : \n",
      " [[-0.90891227  0.0136969  -0.47091927 -0.26657924  1.09724108]\n",
      " [-0.72419828 -0.58874659 -0.57817601  0.18373789  1.03439973]\n",
      " [ 2.23991121 -0.72967083 -1.98802227 -1.11589901 -0.28631444]\n",
      " [ 0.06120009  0.61262709 -0.11904016  1.7895067   0.1219703 ]\n",
      " [-0.01136792 -0.4354301   3.29034601 -0.92013282 -1.1280328 ]]\n"
     ]
    }
   ],
   "source": [
    "array = np.random.randn(5, 5)\n",
    "print(\"2D Array filled with random values : \\n\", array);"
   ]
  },
  {
   "cell_type": "code",
   "execution_count": 5,
   "metadata": {},
   "outputs": [
    {
     "name": "stdout",
     "output_type": "stream",
     "text": [
      "-2.8242072214659015\n",
      "2.8242072214659015\n"
     ]
    }
   ],
   "source": [
    "length = len(array)\n",
    "r1 = 0\n",
    "for i in range(length):\n",
    "    for j in range(5):\n",
    "         if i==j:\n",
    "            r1 = r1 + array[i][j]\n",
    "print(r1) #sum of diagnol\n",
    "print(abs(r1)) #absolute sum of diagnol"
   ]
  },
  {
   "cell_type": "code",
   "execution_count": null,
   "metadata": {},
   "outputs": [],
   "source": []
  }
 ],
 "metadata": {
  "interpreter": {
   "hash": "40d3a090f54c6569ab1632332b64b2c03c39dcf918b08424e98f38b5ae0af88f"
  },
  "kernelspec": {
   "display_name": "Python 3",
   "language": "python",
   "name": "python3"
  },
  "language_info": {
   "codemirror_mode": {
    "name": "ipython",
    "version": 3
   },
   "file_extension": ".py",
   "mimetype": "text/x-python",
   "name": "python",
   "nbconvert_exporter": "python",
   "pygments_lexer": "ipython3",
   "version": "3.8.8"
  }
 },
 "nbformat": 4,
 "nbformat_minor": 2
}
